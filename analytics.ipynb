{
  "nbformat": 4,
  "nbformat_minor": 0,
  "metadata": {
    "colab": {
      "name": "analytics.ipynb",
      "provenance": [],
      "authorship_tag": "ABX9TyODMjzOs9n0IRnQpmN+MdLR",
      "include_colab_link": true
    },
    "kernelspec": {
      "name": "python3",
      "display_name": "Python 3"
    }
  },
  "cells": [
    {
      "cell_type": "markdown",
      "metadata": {
        "id": "view-in-github",
        "colab_type": "text"
      },
      "source": [
        "<a href=\"https://colab.research.google.com/github/sahruldotid/machine-learning/blob/main/analytics.ipynb\" target=\"_parent\"><img src=\"https://colab.research.google.com/assets/colab-badge.svg\" alt=\"Open In Colab\"/></a>"
      ]
    },
    {
      "cell_type": "code",
      "metadata": {
        "colab": {
          "base_uri": "https://localhost:8080/"
        },
        "id": "EXDffTPT8ZmN",
        "outputId": "badc4232-fd97-4c73-ebab-123007fde1a7"
      },
      "source": [
        "from sklearn import datasets\r\n",
        "iris = datasets.load_iris()\r\n",
        "digits = datasets.load_digits()\r\n",
        "\r\n",
        "print(digits.data)"
      ],
      "execution_count": 4,
      "outputs": [
        {
          "output_type": "stream",
          "text": [
            "[[ 0.  0.  5. ...  0.  0.  0.]\n",
            " [ 0.  0.  0. ... 10.  0.  0.]\n",
            " [ 0.  0.  0. ... 16.  9.  0.]\n",
            " ...\n",
            " [ 0.  0.  1. ...  6.  0.  0.]\n",
            " [ 0.  0.  2. ... 12.  0.  0.]\n",
            " [ 0.  0. 10. ... 12.  1.  0.]]\n"
          ],
          "name": "stdout"
        }
      ]
    },
    {
      "cell_type": "code",
      "metadata": {
        "colab": {
          "base_uri": "https://localhost:8080/",
          "height": 228
        },
        "id": "fnsW8zRN91RT",
        "outputId": "1d79705e-d1ca-462f-806a-4a8fb60a3d87"
      },
      "source": [
        "from sklearn import svm\r\n",
        "import matplotlib.pyplot as plt\r\n",
        "\r\n",
        "clf = svm.SVC(gamma=0.001, C=100.)\r\n",
        "clf.fit(digits.data[:-1], digits.target[:-1])\r\n",
        "predict = clf.predict(digits.data[-1:])\r\n",
        "\r\n",
        "plt.figure(predict[0], figsize=(3, 3))\r\n",
        "plt.imshow(digits.images[-1], cmap=plt.cm.gray_r, interpolation='nearest')\r\n",
        "plt.show()\r\n",
        "\r\n",
        "print(f\"Predicted Number : {predict}\")"
      ],
      "execution_count": 22,
      "outputs": [
        {
          "output_type": "display_data",
          "data": {
            "image/png": "[encoded data removed]",
            "text/plain": [
              "<Figure size 216x216 with 1 Axes>"
            ]
          },
          "metadata": {
            "tags": [],
            "needs_background": "light"
          }
        },
        {
          "output_type": "stream",
          "text": [
            "Predicted Number : [8]\n"
          ],
          "name": "stdout"
        }
      ]
    },
    {
      "cell_type": "code",
      "metadata": {
        "colab": {
          "base_uri": "https://localhost:8080/"
        },
        "id": "cLWT9JzXDuQ9",
        "outputId": "bec76c02-fb81-4954-fc6d-575b506dd390"
      },
      "source": [
        "import numpy as np\r\n",
        "from sklearn import random_projection\r\n",
        "\r\n",
        "rng = np.random.RandomState(0)\r\n",
        "X = rng.rand(10, 2000)\r\n",
        "X = np.array(X, dtype='float32')\r\n",
        "print(f\"Before transformation : {X.dtype}\")\r\n",
        "\r\n",
        "transformer = random_projection.GaussianRandomProjection()\r\n",
        "X_new = transformer.fit_transform(X)\r\n",
        "print(f\"After transformation : {X_new.dtype}\")"
      ],
      "execution_count": 27,
      "outputs": [
        {
          "output_type": "stream",
          "text": [
            "Before transformation : float32\n",
            "After transformation : float64\n"
          ],
          "name": "stdout"
        }
      ]
    },
    {
      "cell_type": "code",
      "metadata": {
        "colab": {
          "base_uri": "https://localhost:8080/"
        },
        "id": "g7iVtBa8EwRs",
        "outputId": "8755e0bf-09ac-4302-8405-7d4695e92ea1"
      },
      "source": [
        "from sklearn import datasets\r\n",
        "from sklearn.svm import SVC\r\n",
        "iris = datasets.load_iris()\r\n",
        "clf = SVC()\r\n",
        "\r\n",
        "clf.fit(iris.data, iris.target)\r\n",
        "first_predict = list(clf.predict(iris.data[:3]))\r\n",
        "\r\n",
        "clf.fit(iris.data, iris.target_names[iris.target])\r\n",
        "second_predict = list(clf.predict(iris.data[:3]))\r\n",
        "\r\n",
        "print(first_predict)\r\n",
        "print(second_predict)"
      ],
      "execution_count": 29,
      "outputs": [
        {
          "output_type": "stream",
          "text": [
            "[0, 0, 0]\n",
            "['setosa', 'setosa', 'setosa']\n"
          ],
          "name": "stdout"
        }
      ]
    },
    {
      "cell_type": "code",
      "metadata": {
        "colab": {
          "base_uri": "https://localhost:8080/"
        },
        "id": "fPyRDbbOG4VV",
        "outputId": "732d14a9-455c-4032-8185-dde6fb4548e3"
      },
      "source": [
        "import numpy as np\r\n",
        "from sklearn.datasets import load_iris\r\n",
        "from sklearn.svm import SVC\r\n",
        "X, y = load_iris(return_X_y=True)\r\n",
        "\r\n",
        "clf = SVC()\r\n",
        "clf.set_params(kernel='linear').fit(X, y)\r\n",
        "print(clf.predict(X[:5]))\r\n",
        "\r\n",
        "clf.set_params(kernel='rbf').fit(X, y)\r\n",
        "print(clf.predict(X[:5]))\r\n"
      ],
      "execution_count": 34,
      "outputs": [
        {
          "output_type": "stream",
          "text": [
            "[0 0 0 0 0]\n",
            "[0 0 0 0 0]\n"
          ],
          "name": "stdout"
        }
      ]
    },
    {
      "cell_type": "code",
      "metadata": {
        "colab": {
          "base_uri": "https://localhost:8080/"
        },
        "id": "RCv_cV2kIrAF",
        "outputId": "2d07f488-5465-4b98-b837-8fbb4ca813df"
      },
      "source": [
        "from sklearn.svm import SVC\r\n",
        "from sklearn.multiclass import OneVsRestClassifier\r\n",
        "from sklearn.preprocessing import LabelBinarizer\r\n",
        "from sklearn.preprocessing import MultiLabelBinarizer\r\n",
        "\r\n",
        "X = [[1, 2], [2, 4], [4, 5], [3, 2], [3, 1]]\r\n",
        "y = [0, 0, 1, 1, 2]\r\n",
        "\r\n",
        "classif = OneVsRestClassifier(estimator=SVC(random_state=0))\r\n",
        "print(f\"Returning 1D Array : \\n{classif.fit(X, y).predict(X)}\")\r\n",
        "\r\n",
        "y = LabelBinarizer().fit_transform(y)\r\n",
        "print(f\"Returning 2D Array : \\n{classif.fit(X, y).predict(X)}\")\r\n",
        "\r\n",
        "\r\n",
        "y = [[0, 1], [0, 2], [1, 3], [0, 2, 3], [2, 4]]\r\n",
        "y = MultiLabelBinarizer().fit_transform(y)\r\n",
        "print(f\"Returning 2D Array With Multiple Predicted Label : \\n {classif.fit(X, y).predict(X)}\")"
      ],
      "execution_count": 45,
      "outputs": [
        {
          "output_type": "stream",
          "text": [
            "Returning 1D Array : \n",
            "[0 0 1 1 2]\n",
            "Returning 2D Array : \n",
            "[[1 0 0]\n",
            " [1 0 0]\n",
            " [0 1 0]\n",
            " [0 0 0]\n",
            " [0 0 0]]\n",
            "Returning 2D Array With Multiple Predicted Label : \n",
            " [[1 1 0 0 0]\n",
            " [1 0 1 0 0]\n",
            " [0 1 0 1 0]\n",
            " [1 0 1 0 0]\n",
            " [1 0 1 0 0]]\n"
          ],
          "name": "stdout"
        }
      ]
    }
  ]
}