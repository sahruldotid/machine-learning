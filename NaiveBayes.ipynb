{
  "nbformat": 4,
  "nbformat_minor": 0,
  "metadata": {
    "colab": {
      "name": "NaiveBayes.ipynb",
      "provenance": [],
      "authorship_tag": "ABX9TyMgPAF2cHxuztiayGuTj7iS",
      "include_colab_link": true
    },
    "kernelspec": {
      "name": "python3",
      "display_name": "Python 3"
    },
    "language_info": {
      "name": "python"
    }
  },
  "cells": [
    {
      "cell_type": "markdown",
      "metadata": {
        "id": "view-in-github",
        "colab_type": "text"
      },
      "source": [
        "<a href=\"https://colab.research.google.com/github/sahruldotid/machine-learning/blob/main/NaiveBayes.ipynb\" target=\"_parent\"><img src=\"https://colab.research.google.com/assets/colab-badge.svg\" alt=\"Open In Colab\"/></a>"
      ]
    },
    {
      "cell_type": "code",
      "metadata": {
        "id": "Aaq7TtomWcu8"
      },
      "source": [
        "from sklearn.naive_bayes import GaussianNB\n",
        "import numpy as np\n",
        "import pandas as pd\n",
        "from sklearn import preprocessing"
      ],
      "execution_count": 1,
      "outputs": []
    },
    {
      "cell_type": "code",
      "metadata": {
        "colab": {
          "base_uri": "https://localhost:8080/",
          "height": 359
        },
        "id": "y2xh5ldOXpxe",
        "outputId": "712242c2-a55f-46b8-8e3a-f77cdb1e2fc1"
      },
      "source": [
        "df = pd.read_csv(\"NB.csv\", usecols = ['harga-tanah', 'jarak-kota', 'angkot', 'dipilih'], skipinitialspace=True)\n",
        "df"
      ],
      "execution_count": 2,
      "outputs": [
        {
          "output_type": "execute_result",
          "data": {
            "text/html": [
              "<div>\n",
              "<style scoped>\n",
              "    .dataframe tbody tr th:only-of-type {\n",
              "        vertical-align: middle;\n",
              "    }\n",
              "\n",
              "    .dataframe tbody tr th {\n",
              "        vertical-align: top;\n",
              "    }\n",
              "\n",
              "    .dataframe thead th {\n",
              "        text-align: right;\n",
              "    }\n",
              "</style>\n",
              "<table border=\"1\" class=\"dataframe\">\n",
              "  <thead>\n",
              "    <tr style=\"text-align: right;\">\n",
              "      <th></th>\n",
              "      <th>harga-tanah</th>\n",
              "      <th>jarak-kota</th>\n",
              "      <th>angkot</th>\n",
              "      <th>dipilih</th>\n",
              "    </tr>\n",
              "  </thead>\n",
              "  <tbody>\n",
              "    <tr>\n",
              "      <th>0</th>\n",
              "      <td>Murah</td>\n",
              "      <td>dekat</td>\n",
              "      <td>tidak</td>\n",
              "      <td>ya</td>\n",
              "    </tr>\n",
              "    <tr>\n",
              "      <th>1</th>\n",
              "      <td>Sedang</td>\n",
              "      <td>dekat</td>\n",
              "      <td>tidak</td>\n",
              "      <td>ya</td>\n",
              "    </tr>\n",
              "    <tr>\n",
              "      <th>2</th>\n",
              "      <td>Mahal</td>\n",
              "      <td>dekat</td>\n",
              "      <td>tidak</td>\n",
              "      <td>ya</td>\n",
              "    </tr>\n",
              "    <tr>\n",
              "      <th>3</th>\n",
              "      <td>Mahal</td>\n",
              "      <td>jauh</td>\n",
              "      <td>tidak</td>\n",
              "      <td>tidak</td>\n",
              "    </tr>\n",
              "    <tr>\n",
              "      <th>4</th>\n",
              "      <td>Mahal</td>\n",
              "      <td>sedang</td>\n",
              "      <td>tidak</td>\n",
              "      <td>tidak</td>\n",
              "    </tr>\n",
              "    <tr>\n",
              "      <th>5</th>\n",
              "      <td>Sedang</td>\n",
              "      <td>jauh</td>\n",
              "      <td>ada</td>\n",
              "      <td>tidak</td>\n",
              "    </tr>\n",
              "    <tr>\n",
              "      <th>6</th>\n",
              "      <td>Murah</td>\n",
              "      <td>jauh</td>\n",
              "      <td>ada</td>\n",
              "      <td>tidak</td>\n",
              "    </tr>\n",
              "    <tr>\n",
              "      <th>7</th>\n",
              "      <td>Murah</td>\n",
              "      <td>sedang</td>\n",
              "      <td>tidak</td>\n",
              "      <td>ya</td>\n",
              "    </tr>\n",
              "    <tr>\n",
              "      <th>8</th>\n",
              "      <td>Mahal</td>\n",
              "      <td>jauh</td>\n",
              "      <td>ada</td>\n",
              "      <td>tidak</td>\n",
              "    </tr>\n",
              "    <tr>\n",
              "      <th>9</th>\n",
              "      <td>Sedang</td>\n",
              "      <td>sedang</td>\n",
              "      <td>ada</td>\n",
              "      <td>ya</td>\n",
              "    </tr>\n",
              "  </tbody>\n",
              "</table>\n",
              "</div>"
            ],
            "text/plain": [
              "  harga-tanah jarak-kota angkot dipilih\n",
              "0       Murah      dekat  tidak      ya\n",
              "1      Sedang      dekat  tidak      ya\n",
              "2       Mahal      dekat  tidak      ya\n",
              "3       Mahal       jauh  tidak   tidak\n",
              "4       Mahal     sedang  tidak   tidak\n",
              "5      Sedang       jauh    ada   tidak\n",
              "6       Murah       jauh    ada   tidak\n",
              "7       Murah     sedang  tidak      ya\n",
              "8       Mahal       jauh    ada   tidak\n",
              "9      Sedang     sedang    ada      ya"
            ]
          },
          "metadata": {
            "tags": []
          },
          "execution_count": 2
        }
      ]
    },
    {
      "cell_type": "code",
      "metadata": {
        "id": "F5QfPKV4X3Sm"
      },
      "source": [
        "X = df.iloc[:,0:3]\n",
        "y = df.iloc[:,3]"
      ],
      "execution_count": 3,
      "outputs": []
    },
    {
      "cell_type": "code",
      "metadata": {
        "id": "2DIQwvE8XgUT"
      },
      "source": [
        "feature_pred = {'harga-tanah':'Mahal', \n",
        "                'jarak-kota':'sedang', \n",
        "                'angkot':'ada'}\n",
        "X = X.append(feature_pred, ignore_index=True)"
      ],
      "execution_count": 11,
      "outputs": []
    },
    {
      "cell_type": "code",
      "metadata": {
        "id": "ul9rPfNhOfPy"
      },
      "source": [
        "le = preprocessing.LabelEncoder()\n",
        "X = X.apply(le.fit_transform)\n",
        "detail = le.fit(y)\n",
        "label = detail.transform(y)\n",
        "label = np.reshape(label, (-1, 1))\n",
        "X_train = X.loc[0:9]\n",
        "X_test = X.loc[10]\n",
        "X_test = X_test.to_numpy()\n",
        "X_test = np.reshape(X_test, (1, -1))"
      ],
      "execution_count": 10,
      "outputs": []
    },
    {
      "cell_type": "code",
      "metadata": {
        "colab": {
          "base_uri": "https://localhost:8080/"
        },
        "id": "Cy2nUDgXTPF5",
        "outputId": "147a7018-8939-444c-ac79-c164f281b19f"
      },
      "source": [
        "clf = GaussianNB()\n",
        "clf.fit(X_train, label)"
      ],
      "execution_count": 6,
      "outputs": [
        {
          "output_type": "stream",
          "text": [
            "/usr/local/lib/python3.7/dist-packages/sklearn/naive_bayes.py:206: DataConversionWarning: A column-vector y was passed when a 1d array was expected. Please change the shape of y to (n_samples, ), for example using ravel().\n",
            "  y = column_or_1d(y, warn=True)\n"
          ],
          "name": "stderr"
        },
        {
          "output_type": "execute_result",
          "data": {
            "text/plain": [
              "GaussianNB(priors=None, var_smoothing=1e-09)"
            ]
          },
          "metadata": {
            "tags": []
          },
          "execution_count": 6
        }
      ]
    },
    {
      "cell_type": "code",
      "metadata": {
        "id": "Tm5H7aKKUuKP"
      },
      "source": [
        "prediction = clf.predict(X_test)"
      ],
      "execution_count": 7,
      "outputs": []
    },
    {
      "cell_type": "code",
      "metadata": {
        "colab": {
          "base_uri": "https://localhost:8080/"
        },
        "id": "wIBqdNFsYid3",
        "outputId": "345f9257-2b52-4fa9-e277-64e79e953852"
      },
      "source": [
        "detail.inverse_transform(prediction)"
      ],
      "execution_count": 9,
      "outputs": [
        {
          "output_type": "execute_result",
          "data": {
            "text/plain": [
              "array(['tidak'], dtype=object)"
            ]
          },
          "metadata": {
            "tags": []
          },
          "execution_count": 9
        }
      ]
    }
  ]
}